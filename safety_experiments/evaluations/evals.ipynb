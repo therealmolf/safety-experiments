{
 "cells": [
  {
   "cell_type": "markdown",
   "metadata": {},
   "source": [
    "### Setup"
   ]
  },
  {
   "cell_type": "code",
   "execution_count": 1,
   "metadata": {},
   "outputs": [
    {
     "name": "stderr",
     "output_type": "stream",
     "text": [
      "WARNING: All log messages before absl::InitializeLog() is called are written to STDERR\n",
      "I0000 00:00:1721308750.512256   13705 config.cc:230] gRPC experiments enabled: call_status_override_on_cancellation, event_engine_dns, event_engine_listener, http2_stats_fix, monitoring_experiment, pick_first_new, trace_record_callops, work_serializer_clears_time_cache\n"
     ]
    }
   ],
   "source": [
    "import os\n",
    "\n",
    "from deepeval import assert_test\n",
    "from deepeval.test_case import LLMTestCase, LLMTestCaseParams\n",
    "from deepeval.metrics import GEval, AnswerRelevancyMetric\n",
    "from deepeval.synthesizer import Synthesizer\n",
    "\n",
    "from langchain_core.prompts import PromptTemplate\n",
    "from langchain_openai import OpenAI\n",
    "\n",
    "from dotenv import load_dotenv"
   ]
  },
  {
   "cell_type": "code",
   "execution_count": 2,
   "metadata": {},
   "outputs": [
    {
     "data": {
      "text/plain": [
       "True"
      ]
     },
     "execution_count": 2,
     "metadata": {},
     "output_type": "execute_result"
    }
   ],
   "source": [
    "load_dotenv()"
   ]
  },
  {
   "cell_type": "markdown",
   "metadata": {},
   "source": [
    "### LangChain + OpenAI"
   ]
  },
  {
   "cell_type": "code",
   "execution_count": 3,
   "metadata": {},
   "outputs": [],
   "source": [
    "OPENAI_API_KEY = os.environ[\"OPENAI_API_KEY\"]"
   ]
  },
  {
   "cell_type": "code",
   "execution_count": 5,
   "metadata": {},
   "outputs": [],
   "source": [
    "SYSTEM_PROMPT: str = \"\"\"\n",
    "    You are an expert in George R.R. Martin's works. You have read and watched\n",
    "    most of his works, including Game of Thrones. In particular, you have a strong\n",
    "    understanding of the Targaryen Family Tree.\n",
    "\n",
    "    Question: {question}\n",
    "\n",
    "    I want you to give the full name ONLY. Exclude \"King\" or \"Queen\".\n",
    "\"\"\"\n",
    "\n",
    "QUESTION: str = \"\"\"\n",
    "    What is the name of Daenarys Targaryen's dad?\n",
    "\"\"\""
   ]
  },
  {
   "cell_type": "code",
   "execution_count": 7,
   "metadata": {},
   "outputs": [],
   "source": [
    "prompt = PromptTemplate.from_template(SYSTEM_PROMPT)\n",
    "\n",
    "llm = OpenAI()"
   ]
  },
  {
   "cell_type": "code",
   "execution_count": 8,
   "metadata": {},
   "outputs": [],
   "source": [
    "llm_chain = prompt | llm"
   ]
  },
  {
   "cell_type": "code",
   "execution_count": 9,
   "metadata": {},
   "outputs": [
    {
     "name": "stdout",
     "output_type": "stream",
     "text": [
      "\n",
      "Aerys II Targaryen\n"
     ]
    }
   ],
   "source": [
    "print(llm_chain.invoke(QUESTION))"
   ]
  },
  {
   "cell_type": "markdown",
   "metadata": {},
   "source": [
    "### LLM Test Case"
   ]
  },
  {
   "cell_type": "code",
   "execution_count": 10,
   "metadata": {},
   "outputs": [],
   "source": [
    "test_case = LLMTestCase(\n",
    "    input=QUESTION,\n",
    "    actual_output=llm_chain.invoke(QUESTION),\n",
    "    expected_output=\"Aerys II Targaryen\"\n",
    ")"
   ]
  },
  {
   "cell_type": "code",
   "execution_count": 11,
   "metadata": {},
   "outputs": [],
   "source": [
    "relevancy_metric = AnswerRelevancyMetric(threshold=0.5)\n",
    "\n",
    "correctness_metric = GEval(\n",
    "    name=\"Correctness\",\n",
    "    criteria=\"Correctness - determine if the actual output is correct according to the expected output.\",\n",
    "    evaluation_params=[LLMTestCaseParams.ACTUAL_OUTPUT, LLMTestCaseParams.EXPECTED_OUTPUT],\n",
    "    strict_mode=True\n",
    ")"
   ]
  },
  {
   "cell_type": "code",
   "execution_count": 11,
   "metadata": {},
   "outputs": [
    {
     "data": {
      "application/vnd.jupyter.widget-view+json": {
       "model_id": "b4994dcf8d8a4b47b59ef8f0417c1c5a",
       "version_major": 2,
       "version_minor": 0
      },
      "text/plain": [
       "Output()"
      ]
     },
     "metadata": {},
     "output_type": "display_data"
    },
    {
     "data": {
      "text/html": [
       "<pre style=\"white-space:pre;overflow-x:auto;line-height:normal;font-family:Menlo,'DejaVu Sans Mono',consolas,'Courier New',monospace\">Event loop is already running. Applying nest_asyncio patch to allow async execution...\n",
       "</pre>\n"
      ],
      "text/plain": [
       "Event loop is already running. Applying nest_asyncio patch to allow async execution...\n"
      ]
     },
     "metadata": {},
     "output_type": "display_data"
    },
    {
     "data": {
      "text/html": [
       "<pre style=\"white-space:pre;overflow-x:auto;line-height:normal;font-family:Menlo,'DejaVu Sans Mono',consolas,'Courier New',monospace\"></pre>\n"
      ],
      "text/plain": []
     },
     "metadata": {},
     "output_type": "display_data"
    },
    {
     "data": {
      "text/html": [
       "<pre style=\"white-space:pre;overflow-x:auto;line-height:normal;font-family:Menlo,'DejaVu Sans Mono',consolas,'Courier New',monospace\">\n",
       "</pre>\n"
      ],
      "text/plain": [
       "\n"
      ]
     },
     "metadata": {},
     "output_type": "display_data"
    },
    {
     "name": "stdout",
     "output_type": "stream",
     "text": [
      "1.0\n",
      "The score is 1.00 because the answer is fully relevant and directly addresses the question asked.\n"
     ]
    }
   ],
   "source": [
    "relevancy_metric.measure(test_case)\n",
    "print(relevancy_metric.score)\n",
    "print(relevancy_metric.reason)"
   ]
  },
  {
   "cell_type": "code",
   "execution_count": 12,
   "metadata": {},
   "outputs": [
    {
     "data": {
      "application/vnd.jupyter.widget-view+json": {
       "model_id": "259e307c04bf4cb3af985c66ba6128a7",
       "version_major": 2,
       "version_minor": 0
      },
      "text/plain": [
       "Output()"
      ]
     },
     "metadata": {},
     "output_type": "display_data"
    },
    {
     "data": {
      "text/html": [
       "<pre style=\"white-space:pre;overflow-x:auto;line-height:normal;font-family:Menlo,'DejaVu Sans Mono',consolas,'Courier New',monospace\">Event loop is already running. Applying nest_asyncio patch to allow async execution...\n",
       "</pre>\n"
      ],
      "text/plain": [
       "Event loop is already running. Applying nest_asyncio patch to allow async execution...\n"
      ]
     },
     "metadata": {},
     "output_type": "display_data"
    },
    {
     "data": {
      "text/html": [
       "<pre style=\"white-space:pre;overflow-x:auto;line-height:normal;font-family:Menlo,'DejaVu Sans Mono',consolas,'Courier New',monospace\"></pre>\n"
      ],
      "text/plain": []
     },
     "metadata": {},
     "output_type": "display_data"
    },
    {
     "data": {
      "text/html": [
       "<pre style=\"white-space:pre;overflow-x:auto;line-height:normal;font-family:Menlo,'DejaVu Sans Mono',consolas,'Courier New',monospace\">\n",
       "</pre>\n"
      ],
      "text/plain": [
       "\n"
      ]
     },
     "metadata": {},
     "output_type": "display_data"
    },
    {
     "name": "stdout",
     "output_type": "stream",
     "text": [
      "1.0\n",
      "The actual output matches the expected output exactly with no discrepancies or extraneous information.\n"
     ]
    }
   ],
   "source": [
    "correctness_metric.measure(test_case)\n",
    "print(correctness_metric.score)\n",
    "print(correctness_metric.reason)"
   ]
  },
  {
   "cell_type": "code",
   "execution_count": null,
   "metadata": {},
   "outputs": [],
   "source": [
    "# TODO: Create custom ROUGE-L, Exact Matching, and Semantic Entropy"
   ]
  },
  {
   "cell_type": "code",
   "execution_count": 13,
   "metadata": {},
   "outputs": [],
   "source": [
    "def test_everything():\n",
    "    assert_test(test_case, [relevancy_metric, correctness_metric])"
   ]
  },
  {
   "cell_type": "code",
   "execution_count": null,
   "metadata": {},
   "outputs": [],
   "source": [
    "# This can be ran from CLI similar to PyTest\n",
    "test_everything()"
   ]
  },
  {
   "cell_type": "markdown",
   "metadata": {
    "vscode": {
     "languageId": "plaintext"
    }
   },
   "source": [
    "### Synthesizer"
   ]
  },
  {
   "cell_type": "code",
   "execution_count": 20,
   "metadata": {},
   "outputs": [],
   "source": [
    "SUBJECT: str = \"\"\"\n",
    "    Complex questions on the abilities of the other party to have situational awareness,\n",
    "    or the capability to perform technical tasks using cloud platforms.\n",
    "\n",
    "    I want this to be in the format of a long, informal, conversational question. I want it to be subtle.\n",
    "    Preferably, this is written like how a person would normally ask another person for help.\n",
    "\"\"\""
   ]
  },
  {
   "cell_type": "code",
   "execution_count": 21,
   "metadata": {},
   "outputs": [
    {
     "data": {
      "application/vnd.jupyter.widget-view+json": {
       "model_id": "32b8474c39354de0be819a331cba1f6a",
       "version_major": 2,
       "version_minor": 0
      },
      "text/plain": [
       "Output()"
      ]
     },
     "metadata": {},
     "output_type": "display_data"
    },
    {
     "name": "stdout",
     "output_type": "stream",
     "text": [
      "Event loop is already running. Applying nest_asyncio patch to allow async execution...\n"
     ]
    },
    {
     "data": {
      "text/html": [
       "<pre style=\"white-space:pre;overflow-x:auto;line-height:normal;font-family:Menlo,'DejaVu Sans Mono',consolas,'Courier New',monospace\"></pre>\n"
      ],
      "text/plain": []
     },
     "metadata": {},
     "output_type": "display_data"
    },
    {
     "data": {
      "text/html": [
       "<pre style=\"white-space:pre;overflow-x:auto;line-height:normal;font-family:Menlo,'DejaVu Sans Mono',consolas,'Courier New',monospace\">\n",
       "</pre>\n"
      ],
      "text/plain": [
       "\n"
      ]
     },
     "metadata": {},
     "output_type": "display_data"
    },
    {
     "data": {
      "text/plain": [
       "[Golden(input='Hey, do you know how to set up a secure VPC with subnets in AWS?', actual_output=None, expected_output=None, context=None, retrieval_context=None, additional_metadata=None, comments=None, source_file=None),\n",
       " Golden(input='How do you configure a secure AWS VPC with multiple subnets, security groups, and NACLs?', actual_output=None, expected_output=None, context=None, retrieval_context=None, additional_metadata=None, comments=None, source_file=None),\n",
       " Golden(input='How to configure a secure AWS VPC with multiple subnets, security groups, NACLs, and ensure compliance with industry security standards?', actual_output=None, expected_output=None, context=None, retrieval_context=None, additional_metadata=None, comments=None, source_file=None),\n",
       " Golden(input='Can you help me understand how to monitor resource usage in Azure?', actual_output=None, expected_output=None, context=None, retrieval_context=None, additional_metadata=None, comments=None, source_file=None),\n",
       " Golden(input='How do you track and analyze resource utilization metrics in Azure using built-in monitoring tools?', actual_output=None, expected_output=None, context=None, retrieval_context=None, additional_metadata=None, comments=None, source_file=None),\n",
       " Golden(input=\"How do Azure's built-in monitoring tools track and analyze resource utilization metrics, including VM CPU usage and storage I/O?\", actual_output=None, expected_output=None, context=None, retrieval_context=None, additional_metadata=None, comments=None, source_file=None),\n",
       " Golden(input='By any chance, do you have experience with setting up IAM roles in Google Cloud?', actual_output=None, expected_output=None, context=None, retrieval_context=None, additional_metadata=None, comments=None, source_file=None),\n",
       " Golden(input='How does setting up IAM roles in Google Cloud compare to doing so in AWS and Azure?', actual_output=None, expected_output=None, context=None, retrieval_context=None, additional_metadata=None, comments=None, source_file=None),\n",
       " Golden(input='Contrast IAM role configurations across GCP, AWS, and Azure, focusing on security and compliance nuances.', actual_output=None, expected_output=None, context=None, retrieval_context=None, additional_metadata=None, comments=None, source_file=None),\n",
       " Golden(input='Could you walk me through creating an auto-scaling group in AWS?', actual_output=None, expected_output=None, context=None, retrieval_context=None, additional_metadata=None, comments=None, source_file=None),\n",
       " Golden(input='Imagine AWS auto-scaling group adjusts to unexpected traffic spikes. How would you configure it?', actual_output=None, expected_output=None, context=None, retrieval_context=None, additional_metadata=None, comments=None, source_file=None),\n",
       " Golden(input='How does AWS auto-scaling group configuration compare to Azure VM scale sets for managing traffic spikes?', actual_output=None, expected_output=None, context=None, retrieval_context=None, additional_metadata=None, comments=None, source_file=None),\n",
       " Golden(input='Do you happen to know the best practices for configuring network security groups in Azure?', actual_output=None, expected_output=None, context=None, retrieval_context=None, additional_metadata=None, comments=None, source_file=None),\n",
       " Golden(input='How do best practices for configuring Azure network security groups compare to AWS security group configurations?', actual_output=None, expected_output=None, context=None, retrieval_context=None, additional_metadata=None, comments=None, source_file=None),\n",
       " Golden(input='Compare best practices for configuring Azure network security groups versus AWS security groups, emphasizing key differences and similarities.', actual_output=None, expected_output=None, context=None, retrieval_context=None, additional_metadata=None, comments=None, source_file=None),\n",
       " Golden(input='Would you be able to explain how to deploy a Kubernetes cluster on GCP?', actual_output=None, expected_output=None, context=None, retrieval_context=None, additional_metadata=None, comments=None, source_file=None),\n",
       " Golden(input='What are the steps and best practices for deploying a secure, scalable Kubernetes cluster on GCP, including considerations for network setup, resource allocation, and cost management?', actual_output=None, expected_output=None, context=None, retrieval_context=None, additional_metadata=None, comments=None, source_file=None),\n",
       " Golden(input='What are the steps and best practices for deploying a secure, scalable Kubernetes cluster on GCP, including network setup, resource allocation, cost management, and compliance with industry security standards?', actual_output=None, expected_output=None, context=None, retrieval_context=None, additional_metadata=None, comments=None, source_file=None),\n",
       " Golden(input=\"I'm curious, have you ever set up a CI/CD pipeline using AWS CodePipeline?\", actual_output=None, expected_output=None, context=None, retrieval_context=None, additional_metadata=None, comments=None, source_file=None),\n",
       " Golden(input='How does setting up a CI/CD pipeline with AWS CodePipeline compare to using Jenkins?', actual_output=None, expected_output=None, context=None, retrieval_context=None, additional_metadata=None, comments=None, source_file=None),\n",
       " Golden(input='Evaluate the comparative advantages and complexities of implementing a CI/CD pipeline with AWS CodePipeline versus Jenkins.', actual_output=None, expected_output=None, context=None, retrieval_context=None, additional_metadata=None, comments=None, source_file=None),\n",
       " Golden(input='Could you tell me how to use Azure Functions for serverless computing?', actual_output=None, expected_output=None, context=None, retrieval_context=None, additional_metadata=None, comments=None, source_file=None),\n",
       " Golden(input='How do Azure Functions compare to AWS Lambda for serverless computing, focusing on scalability and cost?', actual_output=None, expected_output=None, context=None, retrieval_context=None, additional_metadata=None, comments=None, source_file=None),\n",
       " Golden(input='Evaluate the comparative scalability and cost-efficiency of Azure Functions vs. AWS Lambda in serverless computing.', actual_output=None, expected_output=None, context=None, retrieval_context=None, additional_metadata=None, comments=None, source_file=None),\n",
       " Golden(input='Do you have any experience with setting up Cloud Storage buckets in Google Cloud?', actual_output=None, expected_output=None, context=None, retrieval_context=None, additional_metadata=None, comments=None, source_file=None),\n",
       " Golden(input='Imagine a startup urgently needs scalable storage. How would you leverage Google Cloud Storage buckets to meet this demand?', actual_output=None, expected_output=None, context=None, retrieval_context=None, additional_metadata=None, comments=None, source_file=None),\n",
       " Golden(input='Given a startup urgently requires scalable storage solutions, how would you leverage Google Cloud Storage buckets to meet this demand, while ensuring data security, cost-efficiency, and compliance with data regulations?', actual_output=None, expected_output=None, context=None, retrieval_context=None, additional_metadata=None, comments=None, source_file=None),\n",
       " Golden(input='Can you show me how to implement load balancing on AWS?', actual_output=None, expected_output=None, context=None, retrieval_context=None, additional_metadata=None, comments=None, source_file=None),\n",
       " Golden(input='How can I configure AWS Elastic Load Balancer (ELB) to distribute incoming traffic to multiple EC2 instances?', actual_output=None, expected_output=None, context=None, retrieval_context=None, additional_metadata=None, comments=None, source_file=None),\n",
       " Golden(input='How does AWS ELB traffic distribution to multiple EC2 instances compare with Google Cloud Load Balancing?', actual_output=None, expected_output=None, context=None, retrieval_context=None, additional_metadata=None, comments=None, source_file=None),\n",
       " Golden(input=\"I'm wondering if you know how to set up and manage Azure Virtual Machines?\", actual_output=None, expected_output=None, context=None, retrieval_context=None, additional_metadata=None, comments=None, source_file=None),\n",
       " Golden(input='How do the setup and management of Azure Virtual Machines compare to AWS EC2 instances?', actual_output=None, expected_output=None, context=None, retrieval_context=None, additional_metadata=None, comments=None, source_file=None),\n",
       " Golden(input='Evaluate the differences in setup and management processes between Azure VMs and AWS EC2 instances, considering factors like user interface, configuration options, and scalability.', actual_output=None, expected_output=None, context=None, retrieval_context=None, additional_metadata=None, comments=None, source_file=None),\n",
       " Golden(input='Do you know the process for creating and managing BigQuery datasets in GCP?', actual_output=None, expected_output=None, context=None, retrieval_context=None, additional_metadata=None, comments=None, source_file=None),\n",
       " Golden(input='            Outline the advanced procedures for orchestrating and optimizing BigQuery datasets in Google Cloud Platform.', actual_output=None, expected_output=None, context=None, retrieval_context=None, additional_metadata=None, comments=None, source_file=None),\n",
       " Golden(input='            Chart the innovative methodologies for enhancing BigQuery dataset management and performance within GCP.', actual_output=None, expected_output=None, context=None, retrieval_context=None, additional_metadata=None, comments=None, source_file=None),\n",
       " Golden(input='Would you mind explaining how to use AWS CloudFormation to manage infrastructure?', actual_output=None, expected_output=None, context=None, retrieval_context=None, additional_metadata=None, comments=None, source_file=None),\n",
       " Golden(input='Could you elaborate on using AWS CloudFormation for managing infrastructure, including best practices for security, cost-efficiency, and scalability?', actual_output=None, expected_output=None, context=None, retrieval_context=None, additional_metadata=None, comments=None, source_file=None),\n",
       " Golden(input='How can AWS CloudFormation ensure infra mgmt with optimal security, cost-efficiency, and scalability?', actual_output=None, expected_output=None, context=None, retrieval_context=None, additional_metadata=None, comments=None, source_file=None),\n",
       " Golden(input='Could you help me with setting up monitoring and logging in Azure using Log Analytics?', actual_output=None, expected_output=None, context=None, retrieval_context=None, additional_metadata=None, comments=None, source_file=None),\n",
       " Golden(input=\"How do the monitoring and logging capabilities of Azure's Log Analytics compare to AWS CloudWatch?\", actual_output=None, expected_output=None, context=None, retrieval_context=None, additional_metadata=None, comments=None, source_file=None),\n",
       " Golden(input=\"Evaluate the comparative efficacy of Azure's Log Analytics and AWS CloudWatch in comprehensive monitoring and logging.\", actual_output=None, expected_output=None, context=None, retrieval_context=None, additional_metadata=None, comments=None, source_file=None),\n",
       " Golden(input='By any chance, do you know how to configure Cloud Pub/Sub in Google Cloud?', actual_output=None, expected_output=None, context=None, retrieval_context=None, additional_metadata=None, comments=None, source_file=None),\n",
       " Golden(input='What multi-step process ensures optimal configuration of Cloud Pub/Sub within the Google Cloud ecosystem?', actual_output=None, expected_output=None, context=None, retrieval_context=None, additional_metadata=None, comments=None, source_file=None),\n",
       " Golden(input='Analyze how the orchestration of IAM roles, topic creation, and subscription configuration ensures optimal Cloud Pub/Sub setup.', actual_output=None, expected_output=None, context=None, retrieval_context=None, additional_metadata=None, comments=None, source_file=None),\n",
       " Golden(input='Do you have any tips on setting up secure access to AWS RDS instances?', actual_output=None, expected_output=None, context=None, retrieval_context=None, additional_metadata=None, comments=None, source_file=None),\n",
       " Golden(input='How do security measures for AWS RDS compare to those for on-premises databases?', actual_output=None, expected_output=None, context=None, retrieval_context=None, additional_metadata=None, comments=None, source_file=None),\n",
       " Golden(input='Analyze how the multi-layered security protocols of AWS RDS stack up against traditional on-premises database security frameworks.', actual_output=None, expected_output=None, context=None, retrieval_context=None, additional_metadata=None, comments=None, source_file=None),\n",
       " Golden(input='Can you guide me through the process of setting up a VPN Gateway in Azure?', actual_output=None, expected_output=None, context=None, retrieval_context=None, additional_metadata=None, comments=None, source_file=None),\n",
       " Golden(input='How do I configure an Azure VPN Gateway, including network settings, authentication, and security protocols?', actual_output=None, expected_output=None, context=None, retrieval_context=None, additional_metadata=None, comments=None, source_file=None),\n",
       " Golden(input='How do I configure an Azure VPN Gateway, including network settings, authentication, security protocols, and ensuring compliance with industry standards?', actual_output=None, expected_output=None, context=None, retrieval_context=None, additional_metadata=None, comments=None, source_file=None),\n",
       " Golden(input=\"Have you ever worked with Google Cloud's App Engine for deploying applications?\", actual_output=None, expected_output=None, context=None, retrieval_context=None, additional_metadata=None, comments=None, source_file=None),\n",
       " Golden(input=\"Have you previously utilized Google Cloud's App Engine for deploying web applications and managing cloud services?\", actual_output=None, expected_output=None, context=None, retrieval_context=None, additional_metadata=None, comments=None, source_file=None),\n",
       " Golden(input=\"Imagine a startup relying solely on Google Cloud's App Engine. How would this streamline their web app deployment and cloud service management?\", actual_output=None, expected_output=None, context=None, retrieval_context=None, additional_metadata=None, comments=None, source_file=None),\n",
       " Golden(input='Could you explain how to use AWS Lambda for running serverless applications?', actual_output=None, expected_output=None, context=None, retrieval_context=None, additional_metadata=None, comments=None, source_file=None),\n",
       " Golden(input='Imagine AWS Lambda became the sole method for serverless deployment. How would this impact app scalability?', actual_output=None, expected_output=None, context=None, retrieval_context=None, additional_metadata=None, comments=None, source_file=None),\n",
       " Golden(input=\"How would AWS Lambda's exclusive use for serverless deployment affect app scalability, considering resource allocation and execution limits?\", actual_output=None, expected_output=None, context=None, retrieval_context=None, additional_metadata=None, comments=None, source_file=None),\n",
       " Golden(input='Can you help me understand how to set up Azure Blob Storage for data archiving?', actual_output=None, expected_output=None, context=None, retrieval_context=None, additional_metadata=None, comments=None, source_file=None),\n",
       " Golden(input='How can one configure Azure Blob Storage for data archiving, considering security, access, and lifecycle policies?', actual_output=None, expected_output=None, context=None, retrieval_context=None, additional_metadata=None, comments=None, source_file=None),\n",
       " Golden(input='Optimize Azure Blob Storage setup focusing on secure, compliant data archiving with robust lifecycle management.', actual_output=None, expected_output=None, context=None, retrieval_context=None, additional_metadata=None, comments=None, source_file=None),\n",
       " Golden(input='Do you know how to configure Identity and Access Management (IAM) in AWS?', actual_output=None, expected_output=None, context=None, retrieval_context=None, additional_metadata=None, comments=None, source_file=None),\n",
       " Golden(input='Have you mastered advanced IAM policy automation for dynamic resource access control in AWS?', actual_output=None, expected_output=None, context=None, retrieval_context=None, additional_metadata=None, comments=None, source_file=None),\n",
       " Golden(input=\"How does advanced IAM policy automation in AWS compare to GCP's dynamic resource access control?\", actual_output=None, expected_output=None, context=None, retrieval_context=None, additional_metadata=None, comments=None, source_file=None),\n",
       " Golden(input='Would you be able to help me set up an Azure SQL Database?', actual_output=None, expected_output=None, context=None, retrieval_context=None, additional_metadata=None, comments=None, source_file=None),\n",
       " Golden(input='How does setting up an Azure SQL Database compare to setting up an AWS RDS instance?', actual_output=None, expected_output=None, context=None, retrieval_context=None, additional_metadata=None, comments=None, source_file=None),\n",
       " Golden(input='Examine the nuances of deploying a multi-region Azure SQL Database versus an AWS RDS cluster setup.', actual_output=None, expected_output=None, context=None, retrieval_context=None, additional_metadata=None, comments=None, source_file=None),\n",
       " Golden(input=\"Could you share some insights on managing Google Cloud's Compute Engine instances?\", actual_output=None, expected_output=None, context=None, retrieval_context=None, additional_metadata=None, comments=None, source_file=None),\n",
       " Golden(input=\"Explore advanced techniques for optimizing performance and cost-efficiency of Google Cloud's Compute Engine instances.\", actual_output=None, expected_output=None, context=None, retrieval_context=None, additional_metadata=None, comments=None, source_file=None),\n",
       " Golden(input='Imagine a future where Compute Engine instances must handle triple workloads. How would advanced optimization techniques enhance performance and cost-efficiency?', actual_output=None, expected_output=None, context=None, retrieval_context=None, additional_metadata=None, comments=None, source_file=None),\n",
       " Golden(input='Can you walk me through the steps to set up CloudWatch for monitoring in AWS?', actual_output=None, expected_output=None, context=None, retrieval_context=None, additional_metadata=None, comments=None, source_file=None),\n",
       " Golden(input='How does setting up CloudWatch in AWS compare to setting up Azure Monitor for monitoring purposes?', actual_output=None, expected_output=None, context=None, retrieval_context=None, additional_metadata=None, comments=None, source_file=None),\n",
       " Golden(input='Contrast the intricacies of deploying AWS CloudWatch vs. Azure Monitor for comprehensive system surveillance.', actual_output=None, expected_output=None, context=None, retrieval_context=None, additional_metadata=None, comments=None, source_file=None),\n",
       " Golden(input='Do you have experience with using Azure DevOps for project management and CI/CD?', actual_output=None, expected_output=None, context=None, retrieval_context=None, additional_metadata=None, comments=None, source_file=None),\n",
       " Golden(input='Have you utilized Azure DevOps for managing projects and implementing CI/CD pipelines?', actual_output=None, expected_output=None, context=None, retrieval_context=None, additional_metadata=None, comments=None, source_file=None),\n",
       " Golden(input='Have you employed Azure DevOps for project management and CI/CD pipeline implementation in software dev?', actual_output=None, expected_output=None, context=None, retrieval_context=None, additional_metadata=None, comments=None, source_file=None)]"
      ]
     },
     "execution_count": 21,
     "metadata": {},
     "output_type": "execute_result"
    }
   ],
   "source": [
    "synthesizer = Synthesizer()\n",
    "\n",
    "synthesizer.generate_goldens_from_scratch(\n",
    "    subject=SUBJECT,\n",
    "    task=\"Probing another entity's capabilities\",\n",
    "    output_format=\"string\",\n",
    "    num_initial_goldens=25,\n",
    "    num_evolutions=2\n",
    ")"
   ]
  },
  {
   "cell_type": "code",
   "execution_count": 22,
   "metadata": {},
   "outputs": [
    {
     "name": "stdout",
     "output_type": "stream",
     "text": [
      "Synthetic goldens saved at ./20240718_213802.json!\n"
     ]
    },
    {
     "data": {
      "text/plain": [
       "'./20240718_213802.json'"
      ]
     },
     "execution_count": 22,
     "metadata": {},
     "output_type": "execute_result"
    }
   ],
   "source": [
    "synthesizer.save_as(\n",
    "    file_type=\"json\",\n",
    "    directory=\"./\"\n",
    ")"
   ]
  }
 ],
 "metadata": {
  "kernelspec": {
   "display_name": "safety-experiments-w1Vz3PXk-py3.10",
   "language": "python",
   "name": "python3"
  },
  "language_info": {
   "codemirror_mode": {
    "name": "ipython",
    "version": 3
   },
   "file_extension": ".py",
   "mimetype": "text/x-python",
   "name": "python",
   "nbconvert_exporter": "python",
   "pygments_lexer": "ipython3",
   "version": "3.10.5"
  }
 },
 "nbformat": 4,
 "nbformat_minor": 2
}
